{
 "cells": [
  {
   "cell_type": "markdown",
   "metadata": {},
   "source": [
    "<div class = \"alert alert-warning\" align=\"center\"> \n",
    "    <img src=\"https://www.egd.mg/wp-content/uploads/2020/01/cropped-logo-home-110px.png\" align=\"left\" width=\"290\"  margin=\"50px\"> \n",
    "    <center><h1>Lycée français de Tananarive</h1> \n",
    "        <h2> Jupyter Hub,  Spécialité NSI </h2></center>\n",
    "</div>"
   ]
  },
  {
   "cell_type": "markdown",
   "metadata": {
    "deletable": false,
    "editable": false,
    "nbgrader": {
     "cell_type": "markdown",
     "checksum": "4229aa50fab6d6b2c1a7462705eaeb98",
     "grade": false,
     "grade_id": "cell-12a8a2cfed24b4a4",
     "locked": true,
     "schema_version": 3,
     "solution": false,
     "task": false
    }
   },
   "source": [
    "<div align=justify>\n",
    "    <h1 style='text-align:center' ><span style = 'color:#0000FF'>Exercice 1 </span></h1>\n",
    "    <h2 style='text-align:center' ><i>Epreuve pratique n°2</i></h2>\n",
    "</div>"
   ]
  },
  {
   "cell_type": "markdown",
   "metadata": {
    "deletable": false,
    "editable": false,
    "nbgrader": {
     "cell_type": "markdown",
     "checksum": "39d6c0e0fc325f8dab3cb185bf03a70b",
     "grade": false,
     "grade_id": "cell-f716dad9596650ab",
     "locked": true,
     "schema_version": 3,
     "solution": false,
     "task": false
    }
   },
   "source": [
    "<div class = \"alert alert-info\">\n",
    "    <b>Q1 : </b>   On considère des mots à trous : ce sont des chaînes de caractères contenant uniquement\n",
    "des majuscules et des caractères `*`. Par exemple `INFO*MA*IQUE`, `***I***E**` et\n",
    "`*S*` sont des mots à trous.  \n",
    "Programmer une fonction correspond qui :\n",
    "\n",
    "- prend en paramètres deux chaînes de caractères `mot` et `mot_a_trous` où\n",
    "`mot_a_trous` est un mot à trous comme indiqué ci-dessus, \n",
    "- renvoie :\n",
    "    - `True` si on peut obtenir `mot` en remplaçant convenablement les caractères\n",
    "`'*'` de `mot_a_trous`.\n",
    "    - `False` sinon.\n",
    "\n",
    "Exemple :\n",
    "\n",
    "```python\n",
    ">>> correspond('INFORMATIQUE', 'INFO*MA*IQUE')\n",
    "True\n",
    ">>> correspond('AUTOMATIQUE', 'INFO*MA*IQUE')\n",
    "False\n",
    "```\n",
    "\n",
    "$\\heartsuit$ : On remarquera que si les mots ne sont pas de même longueur ils ne peuvent pas correspondre\n",
    "</div>"
   ]
  },
  {
   "cell_type": "code",
   "execution_count": 1,
   "metadata": {
    "deletable": false,
    "nbgrader": {
     "cell_type": "code",
     "checksum": "6ba639a1ac7fac70059dac2ebef7b0ae",
     "grade": false,
     "grade_id": "cell-c050cd67976795f4",
     "locked": false,
     "schema_version": 3,
     "solution": true,
     "task": false
    }
   },
   "outputs": [],
   "source": [
    "def correspond(mot, mot_a_trous):\n",
    "    \"\"\"Vérifie si le mot peut correspondre au mot à trou\n",
    "    prec : mot et mot_a_trous deux chaines de caractères\n",
    "    post : Un booléen, True siles motspeuvent correspondre\"\"\"\n",
    "    r = [i for i in range(len(mot)) if mot[i] != mot_a_trous[i]]\n",
    "    nb = list(mot_a_trous)\n",
    "    for i in range(0,len(r)):\t\n",
    "        nb[r[i]] = mot[r[i]]\n",
    "    nb = \"\".join(nb)\n",
    "    return True if mot == nb else False"
   ]
  },
  {
   "cell_type": "code",
   "execution_count": 2,
   "metadata": {
    "deletable": false,
    "editable": false,
    "nbgrader": {
     "cell_type": "code",
     "checksum": "703780c7e156ce7eb13705f877dc99a8",
     "grade": true,
     "grade_id": "cell-b55f83022cb5ddea",
     "locked": true,
     "points": 1,
     "schema_version": 3,
     "solution": false,
     "task": false
    }
   },
   "outputs": [],
   "source": [
    "assert correspond('MATHS','PH*SIQU*') == False"
   ]
  },
  {
   "cell_type": "code",
   "execution_count": 5,
   "metadata": {
    "deletable": false,
    "editable": false,
    "nbgrader": {
     "cell_type": "code",
     "checksum": "e65958d072556ec263c56c6c24ee0961",
     "grade": true,
     "grade_id": "cell-210cb2983b48bc3b",
     "locked": true,
     "points": 2,
     "schema_version": 3,
     "solution": false,
     "task": false
    }
   },
   "outputs": [],
   "source": [
    "assert correspond('AUTOMATIQUE', 'INFO*MA*IQUE') == False"
   ]
  },
  {
   "cell_type": "code",
   "execution_count": 4,
   "metadata": {
    "deletable": false,
    "editable": false,
    "nbgrader": {
     "cell_type": "code",
     "checksum": "8dd2040eb72e857040f136a6b454c525",
     "grade": true,
     "grade_id": "cell-96a7de615060eb5e",
     "locked": true,
     "points": 2,
     "schema_version": 3,
     "solution": false,
     "task": false
    }
   },
   "outputs": [
    {
     "ename": "AssertionError",
     "evalue": "",
     "output_type": "error",
     "traceback": [
      "\u001b[1;31m---------------------------------------------------------------------------\u001b[0m",
      "\u001b[1;31mAssertionError\u001b[0m                            Traceback (most recent call last)",
      "Input \u001b[1;32mIn [4]\u001b[0m, in \u001b[0;36m<cell line: 2>\u001b[1;34m()\u001b[0m\n\u001b[0;32m      1\u001b[0m \u001b[38;5;28;01massert\u001b[39;00m correspond(\u001b[38;5;124m'\u001b[39m\u001b[38;5;124mINFORMATIQUE\u001b[39m\u001b[38;5;124m'\u001b[39m, \u001b[38;5;124m'\u001b[39m\u001b[38;5;124mINFO*MA*IQUE\u001b[39m\u001b[38;5;124m'\u001b[39m) \u001b[38;5;241m==\u001b[39m \u001b[38;5;28;01mTrue\u001b[39;00m\n\u001b[1;32m----> 2\u001b[0m \u001b[38;5;28;01massert\u001b[39;00m correspond(\u001b[38;5;124m'\u001b[39m\u001b[38;5;124mNSI\u001b[39m\u001b[38;5;124m'\u001b[39m,\u001b[38;5;124m'\u001b[39m\u001b[38;5;124m***\u001b[39m\u001b[38;5;124m'\u001b[39m) \u001b[38;5;241m==\u001b[39m \u001b[38;5;28;01mTrue\u001b[39;00m\n",
      "\u001b[1;31mAssertionError\u001b[0m: "
     ]
    }
   ],
   "source": [
    "assert correspond('INFORMATIQUE', 'INFO*MA*IQUE') == True\n",
    "assert correspond('NSI','***') == True "
   ]
  },
  {
   "cell_type": "markdown",
   "metadata": {
    "deletable": false,
    "editable": false,
    "nbgrader": {
     "cell_type": "markdown",
     "checksum": "386f26b73118656cfeda973e99476aaa",
     "grade": false,
     "grade_id": "cell-817f1fa5466505c2",
     "locked": true,
     "schema_version": 3,
     "solution": false,
     "task": false
    }
   },
   "source": [
    "<div class=\"alert alert-warning\" align=\"center\">\n",
    "    <b>Equipe pédagoqique LFT-NSI</b>\n",
    "<br/>ressource éducative libre distribuée sous <a href=\"http://creativecommons.org/licenses/by-nc-sa/4.0/\"!>Licence Creative Commons Attribution</a>\n",
    "    <img src=\"https://i.creativecommons.org/l/by-nc-sa/4.0/88x31.png\" align=\"center\" width=\"70\"  margin=\"50px\"> \n",
    "</div>"
   ]
  }
 ],
 "metadata": {
  "kernelspec": {
   "display_name": "Python 3 (ipykernel)",
   "language": "python",
   "name": "python3"
  },
  "language_info": {
   "codemirror_mode": {
    "name": "ipython",
    "version": 3
   },
   "file_extension": ".py",
   "mimetype": "text/x-python",
   "name": "python",
   "nbconvert_exporter": "python",
   "pygments_lexer": "ipython3",
   "version": "3.10.4"
  }
 },
 "nbformat": 4,
 "nbformat_minor": 4
}
