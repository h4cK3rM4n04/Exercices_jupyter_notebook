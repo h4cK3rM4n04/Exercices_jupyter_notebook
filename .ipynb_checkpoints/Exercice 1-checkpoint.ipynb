{
 "cells": [
  {
   "cell_type": "markdown",
   "metadata": {},
   "source": [
    "<div class = \"alert alert-warning\" align=\"center\"> \n",
    "    <img src=\"https://www.egd.mg/wp-content/uploads/2020/01/cropped-logo-home-110px.png\" align=\"left\" width=\"290\"  margin=\"50px\"> \n",
    "    <center><h1>Lycée français de Tananarive</h1> \n",
    "        <h2> Jupyter Hub,  Spécialité NSI </h2></center>\n",
    "</div>"
   ]
  },
  {
   "cell_type": "markdown",
   "metadata": {
    "deletable": false,
    "editable": false,
    "nbgrader": {
     "cell_type": "markdown",
     "checksum": "555114cafc22ac7bea6973708da9d3c4",
     "grade": false,
     "grade_id": "cell-fd250b3a7262d842",
     "locked": true,
     "schema_version": 3,
     "solution": false,
     "task": false
    }
   },
   "source": [
    "<div align=justify>\n",
    "    <h1 style='text-align:center' ><span style = 'color:#0000FF'>Exercice 1 </span></h1>\n",
    "    <h2 style='text-align:center' ><i>Epreuve pratique n°2</i></h2>\n",
    "</div>"
   ]
  },
  {
   "cell_type": "markdown",
   "metadata": {
    "deletable": false,
    "editable": false,
    "nbgrader": {
     "cell_type": "markdown",
     "checksum": "02d95031118d0e48ba8f8280fa4059fb",
     "grade": false,
     "grade_id": "cell-44359709e306a440",
     "locked": true,
     "schema_version": 3,
     "solution": false,
     "task": false
    }
   },
   "source": [
    "<div class = \"alert alert-success\">\n",
    "    <b>Le code de Gray </b>\n",
    "    \n",
    "Le code de Gray, également appelé code Gray ou code binaire réfléchi, est un type de codage binaire permettant de ne modifier qu'un seul bit à la fois quand on passe d'un état à un autre état.\n",
    "    \n",
    "Le fait de modifier plusieurs bits lors d'une simple incrémentation peut mener, selon le circuit logique, à un état transitoire indésirable. Aussi dans le <b>code de Gray</b>, deux états successifs de la machine ne doivent différer que d'un seul bit.\n",
    "</div>"
   ]
  },
  {
   "cell_type": "markdown",
   "metadata": {
    "deletable": false,
    "editable": false,
    "nbgrader": {
     "cell_type": "markdown",
     "checksum": "84507b8e0f992159acf92c0ec2690c57",
     "grade": false,
     "grade_id": "cell-1987c9820225e5b3",
     "locked": true,
     "schema_version": 3,
     "solution": false,
     "task": false
    }
   },
   "source": [
    "<div class = \"alert alert-info\">\n",
    "    <b>Q1 : </b>  Ecrire une fonction <code>gray(chaine1,chaine2)</code> qui vérifie que les deux chaines passées en paramètres correspondent bien à deux états successifs dans le <b> code de Gray</b> c'est à dire qu'elles ne différent que d'un seul bit:\n",
    "    \n",
    "Exemples :\n",
    "\n",
    "```python\n",
    "gray('10010', '10011')\n",
    "True\n",
    "gray('10010', '10111')\n",
    "False\n",
    "```\n",
    "  \n",
    "$\\heartsuit$ : les chaines de caractères seront obligatoirement de même longueur (cf. spécicication de la fonction)  \n",
    "    \n",
    "</div>"
   ]
  },
  {
   "cell_type": "code",
   "execution_count": 3,
   "metadata": {
    "deletable": false,
    "nbgrader": {
     "cell_type": "code",
     "checksum": "99e3dbc0646d009482b2f3b856811371",
     "grade": false,
     "grade_id": "cell-4c571d1e525aa4dd",
     "locked": false,
     "schema_version": 3,
     "solution": true,
     "task": false
    }
   },
   "outputs": [],
   "source": [
    "def gray(chaine1,chaine2) :\n",
    "    \"\"\"vérifie que les deux chaines de caractères passées en paramètres ne différent que d'un seul bit\n",
    "    prec : deux chaines de caractères de même longueur représentant 2 états binaires\n",
    "    post : un booléen, True si différent d'un bit et d'un seul, False sinon\"\"\"\n",
    "    r = [i for i in range(len(chaine1)) if chaine1[i] != chaine2[i]]\n",
    "    return True if len(r) ==1 else False"
   ]
  },
  {
   "cell_type": "code",
   "execution_count": null,
   "metadata": {
    "deletable": false,
    "editable": false,
    "nbgrader": {
     "cell_type": "code",
     "checksum": "2b79e846237f421ccf645568dd58bb8e",
     "grade": true,
     "grade_id": "cell-4aafe831239d27de",
     "locked": true,
     "points": 1,
     "schema_version": 3,
     "solution": false,
     "task": false
    }
   },
   "outputs": [],
   "source": [
    "assert gray('10010', '10111') == False or gray('10010', '10111') == True"
   ]
  },
  {
   "cell_type": "code",
   "execution_count": 4,
   "metadata": {
    "deletable": false,
    "editable": false,
    "nbgrader": {
     "cell_type": "code",
     "checksum": "cdabfc8a198bdbd2241eb1e4a04b55e7",
     "grade": true,
     "grade_id": "cell-9b29f34343a4da0d",
     "locked": true,
     "points": 1,
     "schema_version": 3,
     "solution": false,
     "task": false
    }
   },
   "outputs": [],
   "source": [
    "assert gray('10010', '10011') == True"
   ]
  },
  {
   "cell_type": "code",
   "execution_count": 5,
   "metadata": {
    "deletable": false,
    "editable": false,
    "nbgrader": {
     "cell_type": "code",
     "checksum": "0722d0bdf213f957c2bdb3f026b14edd",
     "grade": true,
     "grade_id": "cell-f97a3a2d8aa05a2e",
     "locked": true,
     "points": 1,
     "schema_version": 3,
     "solution": false,
     "task": false
    }
   },
   "outputs": [],
   "source": [
    "assert gray('0000','0000') == False"
   ]
  },
  {
   "cell_type": "code",
   "execution_count": 6,
   "metadata": {
    "deletable": false,
    "editable": false,
    "nbgrader": {
     "cell_type": "code",
     "checksum": "0e3d08dffec5558f53dc4fe12dfda594",
     "grade": true,
     "grade_id": "cell-e8d0b7dec75d41ac",
     "locked": true,
     "points": 2,
     "schema_version": 3,
     "solution": false,
     "task": false
    }
   },
   "outputs": [],
   "source": [
    "assert gray('10011','11111') == False"
   ]
  },
  {
   "cell_type": "markdown",
   "metadata": {
    "deletable": false,
    "editable": false,
    "nbgrader": {
     "cell_type": "markdown",
     "checksum": "ecaec346d7d865f294b59baef9cf6aa1",
     "grade": false,
     "grade_id": "cell-50221e760c17fbcd",
     "locked": true,
     "schema_version": 3,
     "solution": false,
     "task": false
    }
   },
   "source": [
    "<div class=\"alert alert-warning\" align=\"center\">\n",
    "    <b>Equipe pédagoqique LFT-NSI</b>\n",
    "<br/>ressource éducative libre distribuée sous <a href=\"http://creativecommons.org/licenses/by-nc-sa/4.0/\"!>Licence Creative Commons Attribution</a>\n",
    "    <img src=\"https://i.creativecommons.org/l/by-nc-sa/4.0/88x31.png\" align=\"center\" width=\"70\"  margin=\"50px\"> \n",
    "</div>"
   ]
  }
 ],
 "metadata": {
  "kernelspec": {
   "display_name": "Python 3 (ipykernel)",
   "language": "python",
   "name": "python3"
  },
  "language_info": {
   "codemirror_mode": {
    "name": "ipython",
    "version": 3
   },
   "file_extension": ".py",
   "mimetype": "text/x-python",
   "name": "python",
   "nbconvert_exporter": "python",
   "pygments_lexer": "ipython3",
   "version": "3.10.4"
  }
 },
 "nbformat": 4,
 "nbformat_minor": 4
}
